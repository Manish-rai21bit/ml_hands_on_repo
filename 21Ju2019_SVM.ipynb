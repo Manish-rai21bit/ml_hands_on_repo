{
 "cells": [
  {
   "cell_type": "markdown",
   "metadata": {},
   "source": [
    "## Support Vector Machines\n",
    "SVM is a supervised machine learnig technique that have primarily been used for classification tasks.\n",
    "\n",
    "![SVM](./images/svm1.png)\n",
    "\n",
    "#### Overview:\n",
    "In SVM we try to maximize the width of the decision boundry. This reduces the degrees of freedom of the separator and reduces overfitting.\n",
    "- Training SVM require optimizing conves cost function\n",
    "- They use the idea of **kernel substitution** and hence are sometimes called **kernel methods**\n",
    "\n",
    "#### Formulation:\n",
    "1. If c(in triangle) and d(in circle) are the closest points in the 2 convex hulls then $w=d-c$.\n",
    "\n",
    "Objective Function:\n",
    "\n",
    "$$min_a \\; \\frac{1}{2}norm2(c-d)$$\n",
    "Constraints:\n",
    "\n",
    "$$c = \\Sigma_{class1} a_ix_i$$\n",
    "$$d = \\Sigma_{class2} a_ix_i$$\n",
    "$$\\Sigma_{class1} a_i=1$$\n",
    "$$\\Sigma_{class2} a_i=1$$\n",
    "$$a_i >= 0$$\n",
    "\n",
    "2. Dual form: If we consider this is minimizing margin\n",
    "\n",
    "Objective Function:\n",
    "\n",
    "$$min_a \\; \\frac{1}{2}norm2(w)$$\n",
    "Constraints:\n",
    "\n",
    "$$w.x_i >= b+1; class1$$\n",
    "$$w.x_i <= b11; class2$$\n",
    "\n",
    "This can be written in dual form as:\n",
    "\n",
    "Objective Function:\n",
    "\n",
    "$$min_a \\; \\frac{1}{2} \\Sigma_i \\Sigma_j y_i y_j a_i a_j x_i.x_j - \\Sigma_i a_i$$\n",
    "\n",
    "Constraint:\n",
    "$$\\Sigma_i y_i a_i = 0$$\n",
    "$$ a_i>=0$$\n",
    "\n",
    "\n",
    "In all these case, $w = \\Sigma_i y_i a_i x_i$ and $b$ is determined by support vector\n",
    "#### Benefits:\n",
    "\n",
    "#### Shortfalls:\n",
    "\n",
    "**Reference**:\n",
    "1. Image taken from this paper - https://hal.archives-ouvertes.fr/hal-00564987/document"
   ]
  },
  {
   "cell_type": "code",
   "execution_count": 1,
   "metadata": {},
   "outputs": [],
   "source": [
    "import pandas as pd\n",
    "import numpy as np\n",
    "import matplotlib.pyplot as plt\n",
    "\n",
    "from sklearn import svm\n",
    "import sklearn.metrics as metrics\n",
    "\n",
    "import warnings\n",
    "warnings.filterwarnings(\"ignore\")\n",
    "warnings.filterwarnings(\"ignore\")"
   ]
  },
  {
   "cell_type": "code",
   "execution_count": 2,
   "metadata": {},
   "outputs": [],
   "source": [
    "def split_train_test(data, test_ratio):\n",
    "    shuffled_indices = np.random.permutation(len(data))\n",
    "    test_set_size = int(len(data)*test_ratio)\n",
    "    test_indices = shuffled_indices[:test_set_size]\n",
    "    train_indices = shuffled_indices[test_set_size:]\n",
    "    return data.iloc[train_indices], data.iloc[test_indices]"
   ]
  },
  {
   "cell_type": "code",
   "execution_count": 3,
   "metadata": {},
   "outputs": [
    {
     "name": "stdout",
     "output_type": "stream",
     "text": [
      "(1890, 6)\n",
      "(1512, 6)\n",
      "(378, 6)\n"
     ]
    },
    {
     "data": {
      "text/html": [
       "<div>\n",
       "<style scoped>\n",
       "    .dataframe tbody tr th:only-of-type {\n",
       "        vertical-align: middle;\n",
       "    }\n",
       "\n",
       "    .dataframe tbody tr th {\n",
       "        vertical-align: top;\n",
       "    }\n",
       "\n",
       "    .dataframe thead th {\n",
       "        text-align: right;\n",
       "    }\n",
       "</style>\n",
       "<table border=\"1\" class=\"dataframe\">\n",
       "  <thead>\n",
       "    <tr style=\"text-align: right;\">\n",
       "      <th></th>\n",
       "      <th>is_booked</th>\n",
       "      <th>tmv</th>\n",
       "      <th>demand_supply_ratio</th>\n",
       "      <th>price</th>\n",
       "      <th>category_grouped</th>\n",
       "      <th>month</th>\n",
       "    </tr>\n",
       "  </thead>\n",
       "  <tbody>\n",
       "    <tr>\n",
       "      <th>0</th>\n",
       "      <td>0</td>\n",
       "      <td>14569</td>\n",
       "      <td>1.902318</td>\n",
       "      <td>30.0</td>\n",
       "      <td>1</td>\n",
       "      <td>5</td>\n",
       "    </tr>\n",
       "    <tr>\n",
       "      <th>1</th>\n",
       "      <td>1</td>\n",
       "      <td>4201</td>\n",
       "      <td>14.622831</td>\n",
       "      <td>39.0</td>\n",
       "      <td>0</td>\n",
       "      <td>5</td>\n",
       "    </tr>\n",
       "    <tr>\n",
       "      <th>2</th>\n",
       "      <td>1</td>\n",
       "      <td>5724</td>\n",
       "      <td>8.659708</td>\n",
       "      <td>24.0</td>\n",
       "      <td>1</td>\n",
       "      <td>4</td>\n",
       "    </tr>\n",
       "    <tr>\n",
       "      <th>3</th>\n",
       "      <td>1</td>\n",
       "      <td>39102</td>\n",
       "      <td>13.570390</td>\n",
       "      <td>121.0</td>\n",
       "      <td>2</td>\n",
       "      <td>12</td>\n",
       "    </tr>\n",
       "    <tr>\n",
       "      <th>4</th>\n",
       "      <td>0</td>\n",
       "      <td>9666</td>\n",
       "      <td>1.297453</td>\n",
       "      <td>42.0</td>\n",
       "      <td>1</td>\n",
       "      <td>8</td>\n",
       "    </tr>\n",
       "  </tbody>\n",
       "</table>\n",
       "</div>"
      ],
      "text/plain": [
       "   is_booked    tmv  demand_supply_ratio  price  category_grouped  month\n",
       "0          0  14569             1.902318   30.0                 1      5\n",
       "1          1   4201            14.622831   39.0                 0      5\n",
       "2          1   5724             8.659708   24.0                 1      4\n",
       "3          1  39102            13.570390  121.0                 2     12\n",
       "4          0   9666             1.297453   42.0                 1      8"
      ]
     },
     "execution_count": 3,
     "metadata": {},
     "output_type": "execute_result"
    }
   ],
   "source": [
    "df = pd.read_csv(\"datasets/lr_data.csv\")\n",
    "df = df.drop(columns=\"Unnamed: 0\")\n",
    "# df_train = df.iloc[0:1500]\n",
    "# df_test = df.iloc[1500:]\n",
    "df_train, df_test = split_train_test(df, 0.2)\n",
    "\n",
    "X_train = df_train[[\"tmv\", \"demand_supply_ratio\", \"price\", \"category_grouped\", \"month\"]]\n",
    "y_train = df_train[\"is_booked\"]\n",
    "X_test = df_test[[\"tmv\", \"demand_supply_ratio\", \"price\", \"category_grouped\", \"month\"]]\n",
    "y_test = df_test[\"is_booked\"]\n",
    "\n",
    "print(df.shape)\n",
    "print(df_train.shape)\n",
    "print(df_test.shape)\n",
    "df.head()"
   ]
  },
  {
   "cell_type": "code",
   "execution_count": 4,
   "metadata": {},
   "outputs": [],
   "source": [
    "# ?svm.LinearSVC"
   ]
  },
  {
   "cell_type": "markdown",
   "metadata": {},
   "source": [
    "Understanding parameters of LinearSVM <br>\n",
    "C : This is the <xxxx> term. Smaller C means wider margin but more misclassifications."
   ]
  },
  {
   "cell_type": "code",
   "execution_count": 5,
   "metadata": {},
   "outputs": [
    {
     "name": "stdout",
     "output_type": "stream",
     "text": [
      "[[ 0.00013105  0.034502   -0.00346217  0.00012276  0.00711784]]\n",
      "[0.00158428]\n"
     ]
    }
   ],
   "source": [
    "model = svm.LinearSVC(C=1.464)\n",
    "model.fit(X_train, y_train)\n",
    "print(model.coef_)\n",
    "print(model.intercept_)"
   ]
  },
  {
   "cell_type": "code",
   "execution_count": 6,
   "metadata": {},
   "outputs": [
    {
     "name": "stdout",
     "output_type": "stream",
     "text": [
      "0.5158730158730159\n"
     ]
    }
   ],
   "source": [
    "# print(model.predict(X_test))\n",
    "print(model.score(X_test, y_test))"
   ]
  },
  {
   "cell_type": "code",
   "execution_count": 7,
   "metadata": {},
   "outputs": [
    {
     "data": {
      "text/plain": [
       "array([[  0,   0],\n",
       "       [183, 195]])"
      ]
     },
     "execution_count": 7,
     "metadata": {},
     "output_type": "execute_result"
    }
   ],
   "source": [
    "metrics.confusion_matrix(model.predict(X_test), y_test)"
   ]
  },
  {
   "cell_type": "markdown",
   "metadata": {},
   "source": [
    "- This is almost like a random guess and I suspect it's because the features in unscaled. Applying scaling might help."
   ]
  },
  {
   "cell_type": "code",
   "execution_count": 8,
   "metadata": {},
   "outputs": [],
   "source": [
    "from sklearn.pipeline import Pipeline\n",
    "from sklearn.preprocessing import StandardScaler"
   ]
  },
  {
   "cell_type": "code",
   "execution_count": 9,
   "metadata": {},
   "outputs": [
    {
     "name": "stdout",
     "output_type": "stream",
     "text": [
      "0.6984126984126984\n"
     ]
    }
   ],
   "source": [
    "svm_clf = Pipeline([(\"scaler\", StandardScaler()), \n",
    "                   (\"linear_svc\", svm.LinearSVC(C=1, loss=\"hinge\"))])\n",
    "svm_clf.fit(X_train, y_train)\n",
    "\n",
    "# print(svm_clf.predict(X_test))\n",
    "print(svm_clf.score(X_test, y_test))"
   ]
  },
  {
   "cell_type": "code",
   "execution_count": 10,
   "metadata": {},
   "outputs": [
    {
     "data": {
      "text/plain": [
       "array([[118,  49],\n",
       "       [ 65, 146]])"
      ]
     },
     "execution_count": 10,
     "metadata": {},
     "output_type": "execute_result"
    }
   ],
   "source": [
    "metrics.confusion_matrix(svm_clf.predict(X_test), y_test)"
   ]
  },
  {
   "cell_type": "markdown",
   "metadata": {},
   "source": [
    "### Polynomial Kernel"
   ]
  },
  {
   "cell_type": "code",
   "execution_count": 11,
   "metadata": {},
   "outputs": [
    {
     "data": {
      "text/plain": [
       "SVC(C=1.0, cache_size=200, class_weight=None, coef0=0.0,\n",
       "  decision_function_shape='ovr', degree=3, gamma='auto_deprecated',\n",
       "  kernel='rbf', max_iter=-1, probability=False, random_state=None,\n",
       "  shrinking=True, tol=0.001, verbose=False)"
      ]
     },
     "execution_count": 11,
     "metadata": {},
     "output_type": "execute_result"
    }
   ],
   "source": [
    "model = svm.SVC()\n",
    "model.fit(X_train, y_train)\n",
    "# print(model.coef_)\n",
    "# print(model.intercept_)"
   ]
  },
  {
   "cell_type": "code",
   "execution_count": 12,
   "metadata": {},
   "outputs": [
    {
     "name": "stdout",
     "output_type": "stream",
     "text": [
      "0.843915343915344\n"
     ]
    }
   ],
   "source": [
    "# print(model.predict(X_test))\n",
    "print(model.score(X_test, y_test))"
   ]
  },
  {
   "cell_type": "markdown",
   "metadata": {},
   "source": [
    "### ROC"
   ]
  },
  {
   "cell_type": "code",
   "execution_count": 16,
   "metadata": {},
   "outputs": [],
   "source": [
    "from sklearn.metrics import roc_curve\n",
    "\n",
    "fpr, tpr, threshold = roc_curve(y_train, model.predict(X_train))\n",
    "\n",
    "def plot_roc_curve(fpr, tpr):\n",
    "    plt.figure(figsize=(8, 6))\n",
    "    plt.plot(fpr, tpr, linewidth=2)\n",
    "    plt.plot([0, 1], [0, 1], 'k--')\n",
    "    plt.axis([0, 1, 0, 1])\n",
    "    plt.title(\"ROC Curve\")\n",
    "    plt.xlabel(\"FPR\")\n",
    "    plt.ylabel(\"TPR\")"
   ]
  },
  {
   "cell_type": "code",
   "execution_count": 17,
   "metadata": {},
   "outputs": [
    {
     "data": {
      "image/png": "[encoded data removed]",
      "text/plain": [
       "<Figure size 576x432 with 1 Axes>"
      ]
     },
     "metadata": {
      "needs_background": "light"
     },
     "output_type": "display_data"
    }
   ],
   "source": [
    "plot_roc_curve(fpr, tpr)"
   ]
  },
  {
   "cell_type": "code",
   "execution_count": null,
   "metadata": {},
   "outputs": [],
   "source": []
  }
 ],
 "metadata": {
  "kernelspec": {
   "display_name": "Python 3",
   "language": "python",
   "name": "python3"
  },
  "language_info": {
   "codemirror_mode": {
    "name": "ipython",
    "version": 3
   },
   "file_extension": ".py",
   "mimetype": "text/x-python",
   "name": "python",
   "nbconvert_exporter": "python",
   "pygments_lexer": "ipython3",
   "version": "3.7.3"
  }
 },
 "nbformat": 4,
 "nbformat_minor": 2
}
