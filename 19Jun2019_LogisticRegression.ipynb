{
 "cells": [
  {
   "cell_type": "markdown",
   "metadata": {},
   "source": [
    "## Logistic Regression\n",
    "\n",
    "$$p^{'} = \\sigma(\\theta ^T . x) $$\n",
    "$$(\\theta ^T . x) = odds\\_ratio$$\n",
    "Main Ideas:\n",
    "1. Logistic Regression Model the probability based on combination of response taken by predictors.\n",
    "2. Sigmoid function scales the output in the range [0, 1]\n",
    "3. $Beta^t* X$ - odds ratio, **Beta** can be solved for by minimizing the cost function as devived in the [link below](https://thelaziestprogrammer.com/sharrington/math-of-machine-learning/solving-logreg-newtons-method).\n",
    "4. **Deviance is the logistic regression's anolog for sum of square errors.** \n",
    "    $$ Deviance = 2*\\log * \\frac{Likelihood \\_of \\_Saturated\\_ model}{Likelihood \\_of\\_ current\\_ model}$$\n",
    "    \n",
    "    Larger the Deviance, poored the fit !!!\n",
    "5. Deviance residuals for i-th observation can be used to find the outliers. See Class noted for details.. \n",
    "6. R-sq (goodness of fit) equivalence in logistic regression can be McFadden's R-sq or Hosmer-Lemeshow goodness of fit test\n",
    "\n",
    "### Beta - Estimations\n",
    "1. **Numerical Method**: Using the Newton's method for numerical estimations. However, without getting too deep into it, the cost function for a single instance can be written as:\n",
    "  $$ c(\\theta) = -log(p^{'}),;  y = 1$$\n",
    "  $$ c(\\theta) = -log(1 - p^{'}); y = 0$$\n",
    "  \n",
    "  This essetially means that when probability is low for y = 1, then assign high cost and similar ider for y = 0. The cost function over all the training data points can be written as:\n",
    "  $$ J(\\theta) = \\frac{1}{m}\\Sigma[y*log(p^{'}) + (1-y)*log(1-p^{'})]$$\n",
    " \n",
    " Parameter updates can be found using the partial derivatives:\n",
    "  $$ \\frac{\\delta}{\\delta \\theta_j}J(\\theta) = \\frac{1}{m}\\Sigma(\\sigma(\\theta^T . x) - y)x$$\n",
    "\n",
    "2. **Normal form** - I think Beta's can also be estimated by normal form as in Linear Regrassion, but in this case the response would be the odds ratio. I still have to work out the algorithm for it.\n",
    "\n",
    "\n",
    "ref:\n",
    "- https://www.theanalysisfactor.com/r-glm-model-fit/\n",
    "- https://thelaziestprogrammer.com/sharrington/math-of-machine-learning/solving-logreg-newtons-method\n",
    "\n",
    "## Softmax or Multinomial Logistic Regression\n",
    "The cost function here is called the Cross-Entropy, the idea is the same as before."
   ]
  },
  {
   "cell_type": "code",
   "execution_count": 1,
   "metadata": {},
   "outputs": [],
   "source": [
    "import pandas as pd\n",
    "import numpy as np\n",
    "import matplotlib.pyplot as plt\n",
    "\n",
    "import sklearn.linear_model as lm\n",
    "import sklearn.metrics as metric\n",
    "\n",
    "import warnings\n",
    "warnings.filterwarnings(\"ignore\", message=\"Line Search failed\")\n",
    "warnings.filterwarnings(\"ignore\", message=\"The line search algorithm did not converge\")"
   ]
  },
  {
   "cell_type": "code",
   "execution_count": 2,
   "metadata": {},
   "outputs": [],
   "source": [
    "def split_train_test(data, test_ratio):\n",
    "    shuffled_indices = np.random.permutation(len(data))\n",
    "    test_set_size = int(len(data)*test_ratio)\n",
    "    test_indices = shuffled_indices[:test_set_size]\n",
    "    train_indices = shuffled_indices[test_set_size:]\n",
    "    return data.iloc[train_indices], data.iloc[test_indices]"
   ]
  },
  {
   "cell_type": "code",
   "execution_count": 5,
   "metadata": {},
   "outputs": [
    {
     "name": "stdout",
     "output_type": "stream",
     "text": [
      "(1890, 6)\n",
      "(1512, 6)\n",
      "(378, 6)\n"
     ]
    },
    {
     "data": {
      "text/html": [
       "<div>\n",
       "<style scoped>\n",
       "    .dataframe tbody tr th:only-of-type {\n",
       "        vertical-align: middle;\n",
       "    }\n",
       "\n",
       "    .dataframe tbody tr th {\n",
       "        vertical-align: top;\n",
       "    }\n",
       "\n",
       "    .dataframe thead th {\n",
       "        text-align: right;\n",
       "    }\n",
       "</style>\n",
       "<table border=\"1\" class=\"dataframe\">\n",
       "  <thead>\n",
       "    <tr style=\"text-align: right;\">\n",
       "      <th></th>\n",
       "      <th>is_booked</th>\n",
       "      <th>tmv</th>\n",
       "      <th>demand_supply_ratio</th>\n",
       "      <th>price</th>\n",
       "      <th>category_grouped</th>\n",
       "      <th>month</th>\n",
       "    </tr>\n",
       "  </thead>\n",
       "  <tbody>\n",
       "    <tr>\n",
       "      <th>0</th>\n",
       "      <td>0</td>\n",
       "      <td>14569</td>\n",
       "      <td>1.902318</td>\n",
       "      <td>30.0</td>\n",
       "      <td>1</td>\n",
       "      <td>5</td>\n",
       "    </tr>\n",
       "    <tr>\n",
       "      <th>1</th>\n",
       "      <td>1</td>\n",
       "      <td>4201</td>\n",
       "      <td>14.622831</td>\n",
       "      <td>39.0</td>\n",
       "      <td>0</td>\n",
       "      <td>5</td>\n",
       "    </tr>\n",
       "    <tr>\n",
       "      <th>2</th>\n",
       "      <td>1</td>\n",
       "      <td>5724</td>\n",
       "      <td>8.659708</td>\n",
       "      <td>24.0</td>\n",
       "      <td>1</td>\n",
       "      <td>4</td>\n",
       "    </tr>\n",
       "    <tr>\n",
       "      <th>3</th>\n",
       "      <td>1</td>\n",
       "      <td>39102</td>\n",
       "      <td>13.570390</td>\n",
       "      <td>121.0</td>\n",
       "      <td>2</td>\n",
       "      <td>12</td>\n",
       "    </tr>\n",
       "    <tr>\n",
       "      <th>4</th>\n",
       "      <td>0</td>\n",
       "      <td>9666</td>\n",
       "      <td>1.297453</td>\n",
       "      <td>42.0</td>\n",
       "      <td>1</td>\n",
       "      <td>8</td>\n",
       "    </tr>\n",
       "  </tbody>\n",
       "</table>\n",
       "</div>"
      ],
      "text/plain": [
       "   is_booked    tmv  demand_supply_ratio  price  category_grouped  month\n",
       "0          0  14569             1.902318   30.0                 1      5\n",
       "1          1   4201            14.622831   39.0                 0      5\n",
       "2          1   5724             8.659708   24.0                 1      4\n",
       "3          1  39102            13.570390  121.0                 2     12\n",
       "4          0   9666             1.297453   42.0                 1      8"
      ]
     },
     "execution_count": 5,
     "metadata": {},
     "output_type": "execute_result"
    }
   ],
   "source": [
    "df = pd.read_csv(\"datasets/lr_data.csv\")\n",
    "df = df.drop(columns=\"Unnamed: 0\")\n",
    "# df_train = df.iloc[0:1500]\n",
    "# df_test = df.iloc[1500:]\n",
    "df_train, df_test = split_train_test(df, 0.2)\n",
    "print(df.shape)\n",
    "print(df_train.shape)\n",
    "print(df_test.shape)\n",
    "df.head()"
   ]
  },
  {
   "cell_type": "code",
   "execution_count": 6,
   "metadata": {},
   "outputs": [
    {
     "name": "stdout",
     "output_type": "stream",
     "text": [
      "<class 'pandas.core.frame.DataFrame'>\n",
      "RangeIndex: 1890 entries, 0 to 1889\n",
      "Data columns (total 6 columns):\n",
      "is_booked              1890 non-null int64\n",
      "tmv                    1890 non-null int64\n",
      "demand_supply_ratio    1890 non-null float64\n",
      "price                  1890 non-null float64\n",
      "category_grouped       1890 non-null int64\n",
      "month                  1890 non-null int64\n",
      "dtypes: float64(2), int64(4)\n",
      "memory usage: 88.7 KB\n"
     ]
    }
   ],
   "source": [
    "df.info()"
   ]
  },
  {
   "cell_type": "code",
   "execution_count": 7,
   "metadata": {},
   "outputs": [
    {
     "data": {
      "text/html": [
       "<div>\n",
       "<style scoped>\n",
       "    .dataframe tbody tr th:only-of-type {\n",
       "        vertical-align: middle;\n",
       "    }\n",
       "\n",
       "    .dataframe tbody tr th {\n",
       "        vertical-align: top;\n",
       "    }\n",
       "\n",
       "    .dataframe thead th {\n",
       "        text-align: right;\n",
       "    }\n",
       "</style>\n",
       "<table border=\"1\" class=\"dataframe\">\n",
       "  <thead>\n",
       "    <tr style=\"text-align: right;\">\n",
       "      <th></th>\n",
       "      <th>is_booked</th>\n",
       "      <th>tmv</th>\n",
       "      <th>demand_supply_ratio</th>\n",
       "      <th>price</th>\n",
       "      <th>category_grouped</th>\n",
       "      <th>month</th>\n",
       "    </tr>\n",
       "  </thead>\n",
       "  <tbody>\n",
       "    <tr>\n",
       "      <th>count</th>\n",
       "      <td>1890.000000</td>\n",
       "      <td>1890.000000</td>\n",
       "      <td>1890.000000</td>\n",
       "      <td>1890.000000</td>\n",
       "      <td>1890.000000</td>\n",
       "      <td>1890.000000</td>\n",
       "    </tr>\n",
       "    <tr>\n",
       "      <th>mean</th>\n",
       "      <td>0.537566</td>\n",
       "      <td>14136.074603</td>\n",
       "      <td>6.043046</td>\n",
       "      <td>45.396825</td>\n",
       "      <td>1.333333</td>\n",
       "      <td>6.713757</td>\n",
       "    </tr>\n",
       "    <tr>\n",
       "      <th>std</th>\n",
       "      <td>0.498719</td>\n",
       "      <td>9340.612268</td>\n",
       "      <td>3.951393</td>\n",
       "      <td>22.193485</td>\n",
       "      <td>0.984259</td>\n",
       "      <td>3.581623</td>\n",
       "    </tr>\n",
       "    <tr>\n",
       "      <th>min</th>\n",
       "      <td>0.000000</td>\n",
       "      <td>3875.000000</td>\n",
       "      <td>0.463101</td>\n",
       "      <td>10.000000</td>\n",
       "      <td>0.000000</td>\n",
       "      <td>1.000000</td>\n",
       "    </tr>\n",
       "    <tr>\n",
       "      <th>25%</th>\n",
       "      <td>0.000000</td>\n",
       "      <td>7115.000000</td>\n",
       "      <td>3.002744</td>\n",
       "      <td>30.000000</td>\n",
       "      <td>1.000000</td>\n",
       "      <td>3.000000</td>\n",
       "    </tr>\n",
       "    <tr>\n",
       "      <th>50%</th>\n",
       "      <td>1.000000</td>\n",
       "      <td>10850.000000</td>\n",
       "      <td>5.694339</td>\n",
       "      <td>39.000000</td>\n",
       "      <td>1.000000</td>\n",
       "      <td>7.000000</td>\n",
       "    </tr>\n",
       "    <tr>\n",
       "      <th>75%</th>\n",
       "      <td>1.000000</td>\n",
       "      <td>18802.000000</td>\n",
       "      <td>8.431289</td>\n",
       "      <td>52.000000</td>\n",
       "      <td>2.000000</td>\n",
       "      <td>10.000000</td>\n",
       "    </tr>\n",
       "    <tr>\n",
       "      <th>max</th>\n",
       "      <td>1.000000</td>\n",
       "      <td>39102.000000</td>\n",
       "      <td>23.333333</td>\n",
       "      <td>134.000000</td>\n",
       "      <td>4.000000</td>\n",
       "      <td>12.000000</td>\n",
       "    </tr>\n",
       "  </tbody>\n",
       "</table>\n",
       "</div>"
      ],
      "text/plain": [
       "         is_booked           tmv  demand_supply_ratio        price  \\\n",
       "count  1890.000000   1890.000000          1890.000000  1890.000000   \n",
       "mean      0.537566  14136.074603             6.043046    45.396825   \n",
       "std       0.498719   9340.612268             3.951393    22.193485   \n",
       "min       0.000000   3875.000000             0.463101    10.000000   \n",
       "25%       0.000000   7115.000000             3.002744    30.000000   \n",
       "50%       1.000000  10850.000000             5.694339    39.000000   \n",
       "75%       1.000000  18802.000000             8.431289    52.000000   \n",
       "max       1.000000  39102.000000            23.333333   134.000000   \n",
       "\n",
       "       category_grouped        month  \n",
       "count       1890.000000  1890.000000  \n",
       "mean           1.333333     6.713757  \n",
       "std            0.984259     3.581623  \n",
       "min            0.000000     1.000000  \n",
       "25%            1.000000     3.000000  \n",
       "50%            1.000000     7.000000  \n",
       "75%            2.000000    10.000000  \n",
       "max            4.000000    12.000000  "
      ]
     },
     "execution_count": 7,
     "metadata": {},
     "output_type": "execute_result"
    }
   ],
   "source": [
    "df.describe()"
   ]
  },
  {
   "cell_type": "code",
   "execution_count": 8,
   "metadata": {},
   "outputs": [
    {
     "data": {
      "text/plain": [
       "array([[<matplotlib.axes._subplots.AxesSubplot object at 0x1a1b984a90>,\n",
       "        <matplotlib.axes._subplots.AxesSubplot object at 0x1a1b9d1e10>],\n",
       "       [<matplotlib.axes._subplots.AxesSubplot object at 0x1a1bce2320>,\n",
       "        <matplotlib.axes._subplots.AxesSubplot object at 0x1a1bd08898>],\n",
       "       [<matplotlib.axes._subplots.AxesSubplot object at 0x1a1bd2ee10>,\n",
       "        <matplotlib.axes._subplots.AxesSubplot object at 0x1a1bd5e358>]],\n",
       "      dtype=object)"
      ]
     },
     "execution_count": 8,
     "metadata": {},
     "output_type": "execute_result"
    },
    {
     "data": {
      "image/png": "[encoded data removed]",
      "text/plain": [
       "<Figure size 864x864 with 6 Axes>"
      ]
     },
     "metadata": {
      "needs_background": "light"
     },
     "output_type": "display_data"
    }
   ],
   "source": [
    "df.hist(figsize=(12, 12), bins=100)"
   ]
  },
  {
   "cell_type": "code",
   "execution_count": 9,
   "metadata": {},
   "outputs": [],
   "source": [
    "X_train = df_train[[\"tmv\", \"demand_supply_ratio\", \"price\", \"category_grouped\", \"month\"]]\n",
    "y_train = df_train[\"is_booked\"]\n",
    "X_test = df_test[[\"tmv\", \"demand_supply_ratio\", \"price\", \"category_grouped\", \"month\"]]\n",
    "y_test = df_test[\"is_booked\"]\n",
    "\n",
    "model = lm.LogisticRegression(solver='newton-cg').fit(X_train, y_train)\n"
   ]
  },
  {
   "cell_type": "markdown",
   "metadata": {},
   "source": [
    "## mean accuracy on the given dataset"
   ]
  },
  {
   "cell_type": "code",
   "execution_count": 10,
   "metadata": {},
   "outputs": [
    {
     "name": "stdout",
     "output_type": "stream",
     "text": [
      "mean Accuracy on train set: 0.6924603174603174\n",
      "mean Accuracy on test set: 0.7195767195767195\n"
     ]
    }
   ],
   "source": [
    "print(\"mean Accuracy on train set: {0}\".format(model.score(X_train, y_train)))\n",
    "print(\"mean Accuracy on test set: {0}\".format(model.score(X_test, y_test)))"
   ]
  },
  {
   "cell_type": "markdown",
   "metadata": {},
   "source": [
    "## Predict class labels for samples in X."
   ]
  },
  {
   "cell_type": "code",
   "execution_count": 11,
   "metadata": {},
   "outputs": [
    {
     "name": "stdout",
     "output_type": "stream",
     "text": [
      "[[111  62]\n",
      " [ 44 161]]\n"
     ]
    },
    {
     "data": {
      "image/png": "[encoded data removed]",
      "text/plain": [
       "<Figure size 288x288 with 1 Axes>"
      ]
     },
     "metadata": {
      "needs_background": "light"
     },
     "output_type": "display_data"
    }
   ],
   "source": [
    "l_pred = list(model.predict(X_test))\n",
    "l_gt = list(y_test)\n",
    "cm = metric.confusion_matrix(l_gt, l_pred)\n",
    "print(cm)\n",
    "plt.matshow(cm)\n",
    "plt.show()"
   ]
  },
  {
   "cell_type": "markdown",
   "metadata": {},
   "source": [
    "#### Let's try cross validation based accuracy"
   ]
  },
  {
   "cell_type": "code",
   "execution_count": 8,
   "metadata": {
    "scrolled": false
   },
   "outputs": [
    {
     "data": {
      "image/png": "[encoded data removed]",
      "text/plain": [
       "<Figure size 432x288 with 1 Axes>"
      ]
     },
     "metadata": {
      "needs_background": "light"
     },
     "output_type": "display_data"
    }
   ],
   "source": [
    "from sklearn.model_selection import cross_val_score\n",
    "\n",
    "scores= cross_val_score(model, X=df[[\"tmv\", \"demand_supply_ratio\", \"price\", \"category_grouped\", \"month\"]],\\\n",
    "                y=df[\"is_booked\"], cv=10, scoring=\"accuracy\")\n",
    "plt.plot(range(10), scores)\n",
    "plt.show()"
   ]
  },
  {
   "cell_type": "markdown",
   "metadata": {},
   "source": [
    "#### Plot precision-recall curve"
   ]
  },
  {
   "cell_type": "code",
   "execution_count": 9,
   "metadata": {},
   "outputs": [],
   "source": [
    "y_scores = model.decision_function(X_train)"
   ]
  },
  {
   "cell_type": "code",
   "execution_count": 10,
   "metadata": {},
   "outputs": [
    {
     "data": {
      "text/plain": [
       "array([ 1.53325981, -2.36787167, -0.29865533, ...,  0.39982551,\n",
       "       -0.44906871, -1.04809023])"
      ]
     },
     "execution_count": 10,
     "metadata": {},
     "output_type": "execute_result"
    }
   ],
   "source": [
    "y_scores"
   ]
  },
  {
   "cell_type": "code",
   "execution_count": 11,
   "metadata": {},
   "outputs": [],
   "source": [
    "from sklearn.metrics import precision_recall_curve\n",
    "\n",
    "p, r, t = precision_recall_curve(y_train, y_scores)\n",
    "\n",
    "# Plot the curve\n",
    "def plot_precision_recall_vs_threshold(p, r, t):\n",
    "    plt.figure(figsize=(10,6))\n",
    "    plt.plot(t, p[:-1], \"b--\", label=\"Precision\")\n",
    "    plt.plot(t, r[:-1], \"g-\", label=\"Recall\")\n",
    "    plt.xlabel(\"Thershold\")\n",
    "    plt.legend(loc=\"center right\")\n",
    "    plt.ylim([0,1])\n",
    "    plt.grid()"
   ]
  },
  {
   "cell_type": "code",
   "execution_count": 12,
   "metadata": {},
   "outputs": [
    {
     "data": {
      "image/png": "[encoded data removed]",
      "text/plain": [
       "<Figure size 720x432 with 1 Axes>"
      ]
     },
     "metadata": {
      "needs_background": "light"
     },
     "output_type": "display_data"
    }
   ],
   "source": [
    "plot_precision_recall_vs_threshold(p, r, t)"
   ]
  },
  {
   "cell_type": "markdown",
   "metadata": {},
   "source": [
    "I can select some threshold of 0.25 instead of 0, which is the default value "
   ]
  },
  {
   "cell_type": "markdown",
   "metadata": {},
   "source": [
    "### ROC CUrve"
   ]
  },
  {
   "cell_type": "code",
   "execution_count": 13,
   "metadata": {},
   "outputs": [],
   "source": [
    "from sklearn.metrics import roc_curve\n",
    "\n",
    "fpr, tpr, threshold = roc_curve(y_train, y_scores)\n",
    "\n",
    "def plot_roc_curve(fpr, tpr):\n",
    "    plt.figure(figsize=(8, 6))\n",
    "    plt.plot(fpr, tpr, linewidth=2)\n",
    "    plt.plot([0, 1], [0, 1], 'k--')\n",
    "    plt.axis([0, 1, 0, 1])\n",
    "    plt.title(\"ROC Curve\")\n",
    "    plt.xlabel(\"FPR\")\n",
    "    plt.ylabel(\"TPR\")"
   ]
  },
  {
   "cell_type": "code",
   "execution_count": 14,
   "metadata": {},
   "outputs": [
    {
     "data": {
      "image/png": "[encoded data removed]",
      "text/plain": [
       "<Figure size 576x432 with 1 Axes>"
      ]
     },
     "metadata": {
      "needs_background": "light"
     },
     "output_type": "display_data"
    }
   ],
   "source": [
    "plot_roc_curve(fpr, tpr)"
   ]
  },
  {
   "cell_type": "code",
   "execution_count": null,
   "metadata": {},
   "outputs": [],
   "source": []
  }
 ],
 "metadata": {
  "kernelspec": {
   "display_name": "Python 3",
   "language": "python",
   "name": "python3"
  },
  "language_info": {
   "codemirror_mode": {
    "name": "ipython",
    "version": 3
   },
   "file_extension": ".py",
   "mimetype": "text/x-python",
   "name": "python",
   "nbconvert_exporter": "python",
   "pygments_lexer": "ipython3",
   "version": "3.7.3"
  }
 },
 "nbformat": 4,
 "nbformat_minor": 2
}
